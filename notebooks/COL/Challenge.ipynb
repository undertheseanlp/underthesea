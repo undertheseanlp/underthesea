{
 "cells": [
  {
   "cell_type": "markdown",
   "metadata": {},
   "source": [
    "This notebook if demonstation for challenge Vietnamese NLP Dataset for Continual Learning. In the past, underthesea team is only focused on tuning model. In this project, we create a simple challenge for ourselves to build a continuous learning NLP system."
   ]
  },
  {
   "cell_type": "markdown",
   "metadata": {},
   "source": [
    "## The August 2021 Challenges Vietnamese NLP Dataset for Continual Learning\n",
    "\n",
    "The August 2021 Challenges are [part-of-speech tagging](https://en.wikipedia.org/wiki/Part-of-speech_tagging) and [dependency parsing](https://universaldependencies.org/)."
   ]
  },
  {
   "cell_type": "markdown",
   "metadata": {},
   "source": [
    "### Create environement"
   ]
  },
  {
   "cell_type": "code",
   "execution_count": null,
   "metadata": {},
   "outputs": [],
   "source": [
    "%load_ext autoreload\n",
    "%autoreload 2\n",
    "\n",
    "# add project folder\n",
    "import os\n",
    "from os.path import dirname, join\n",
    "PROJECT_FOLDER = dirname(dirname(os.getcwd()))\n",
    "os.sys.path.append(PROJECT_FOLDER)\n",
    "\n",
    "# add dependencies\n",
    "from underthesea.utils.col_analyzer import UDAnalyzer\n",
    "from underthesea.utils.col_script import RawToUDDataset\n",
    "from IPython.display import display, display_png\n",
    "from wordcloud import WordCloud\n",
    "from PIL import Image\n",
    "import matplotlib\n",
    "import numpy as np\n",
    "import matplotlib.pyplot as plt\n",
    "\n",
    "# init folder\n",
    "DATASETS_FOLDER = join(PROJECT_FOLDER, \"datasets\")\n",
    "COL_FOLDER = join(DATASETS_FOLDER, \"UD_Vietnamese-COL\")\n",
    "raw_file = join(COL_FOLDER, \"corpus\", \"raw\", \"202108.txt\")"
   ]
  },
  {
   "cell_type": "markdown",
   "metadata": {},
   "source": [
    "### Load dataset"
   ]
  },
  {
   "cell_type": "code",
   "execution_count": null,
   "metadata": {},
   "outputs": [],
   "source": [
    "%%capture\n",
    "raw_file = join(COL_FOLDER, \"corpus\", \"raw\", \"202108.txt\")\n",
    "dataset = RawToUDDataset(raw_file)\n",
    "\n",
    "ud_file = join(COL_FOLDER, \"corpus\", \"ud\", \"202108.txt\")\n",
    "dataset.write(ud_file)"
   ]
  },
  {
   "cell_type": "code",
   "execution_count": null,
   "metadata": {},
   "outputs": [],
   "source": [
    "analyzer = UDAnalyzer()"
   ]
  },
  {
   "cell_type": "code",
   "execution_count": null,
   "metadata": {},
   "outputs": [],
   "source": [
    "analyzer.analyze_dataset_len(dataset)"
   ]
  },
  {
   "cell_type": "code",
   "execution_count": null,
   "metadata": {},
   "outputs": [],
   "source": [
    "analyzer.analyze_sent_ids(dataset)"
   ]
  },
  {
   "cell_type": "markdown",
   "metadata": {},
   "source": [
    "### Explore words\n",
    "\n",
    "We want to explore:\n",
    "\n",
    "* What is word freqquences?\n",
    "* How many words in this corpus?\n",
    "* What are out of vocabulary words?"
   ]
  },
  {
   "cell_type": "code",
   "execution_count": null,
   "metadata": {},
   "outputs": [],
   "source": [
    "counter = analyzer.analyze_words(dataset)"
   ]
  },
  {
   "cell_type": "code",
   "execution_count": null,
   "metadata": {},
   "outputs": [],
   "source": [
    "w1 = WordCloud().generate_from_frequencies(counter)\n",
    "plt.figure(figsize=(16, 12), dpi=50)\n",
    "plt.imshow(w1, interpolation=\"bilinear\")\n",
    "plt.axis(\"off\")\n",
    "plt.show()"
   ]
  },
  {
   "cell_type": "markdown",
   "metadata": {},
   "source": [
    "Beautiful word cloud for most frequencies words in this corpus."
   ]
  },
  {
   "cell_type": "markdown",
   "metadata": {},
   "source": [
    "## How to Contribute?\n",
    "\n",
    "It's great that you find this project interesting. Even the smallest contribute is appreciated. Welcome to this exciting journey with us.\n",
    "\n",
    "### You can contribute in so many ways!\n",
    "\n",
    "* [Create more usefull open data](https://github.com/undertheseanlp/underthesea/tree/master/datasets/UD_Vietnamese-COL)\n",
    "* [Create more cool explore](https://github.com/undertheseanlp/underthesea/tree/master/datasets/UD_Vietnamese-COL)"
   ]
  }
 ],
 "metadata": {
  "kernelspec": {
   "display_name": "underthesea_test",
   "language": "python",
   "name": "underthesea_test"
  },
  "language_info": {
   "codemirror_mode": {
    "name": "ipython",
    "version": 3
   },
   "file_extension": ".py",
   "mimetype": "text/x-python",
   "name": "python",
   "nbconvert_exporter": "python",
   "pygments_lexer": "ipython3",
   "version": "3.6.13"
  }
 },
 "nbformat": 4,
 "nbformat_minor": 4
}
