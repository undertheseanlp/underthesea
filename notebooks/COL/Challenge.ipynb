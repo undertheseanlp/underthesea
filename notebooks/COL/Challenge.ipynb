{
 "cells": [
  {
   "cell_type": "code",
   "execution_count": 1,
   "metadata": {},
   "outputs": [
    {
     "name": "stdout",
     "output_type": "stream",
     "text": [
      "Load dictionary with 31327 words.\n"
     ]
    }
   ],
   "source": [
    "%load_ext autoreload\n",
    "%autoreload 2\n",
    "\n",
    "# add project folder\n",
    "import os\n",
    "from os.path import dirname, join\n",
    "PROJECT_FOLDER = dirname(dirname(os.getcwd()))\n",
    "os.sys.path.append(PROJECT_FOLDER)\n",
    "\n",
    "# add dependencies\n",
    "from underthesea.utils.col_analyzer import UDAnalyzer\n",
    "from underthesea.utils.col_script import RawToUDDataset\n",
    "\n",
    "# init folder\n",
    "DATASETS_FOLDER = join(PROJECT_FOLDER, \"datasets\")\n",
    "COL_FOLDER = join(DATASETS_FOLDER, \"UD_Vietnamese-COL\")\n",
    "raw_file = join(COL_FOLDER, \"corpus\", \"raw\", \"202108.txt\")"
   ]
  },
  {
   "cell_type": "code",
   "execution_count": 2,
   "metadata": {},
   "outputs": [],
   "source": [
    "%%capture\n",
    "raw_file = join(COL_FOLDER, \"corpus\", \"raw\", \"202108.txt\")\n",
    "dataset = RawToUDDataset(raw_file)\n",
    "\n",
    "ud_file = join(COL_FOLDER, \"corpus\", \"ud\", \"202108.txt\")\n",
    "dataset.write(ud_file)"
   ]
  },
  {
   "cell_type": "code",
   "execution_count": 3,
   "metadata": {},
   "outputs": [],
   "source": [
    "analyzer = UDAnalyzer()"
   ]
  },
  {
   "cell_type": "code",
   "execution_count": 4,
   "metadata": {},
   "outputs": [
    {
     "name": "stdout",
     "output_type": "stream",
     "text": [
      "Number of sentences 50\n"
     ]
    }
   ],
   "source": [
    "analyzer.analyze_dataset_len(dataset)"
   ]
  },
  {
   "cell_type": "code",
   "execution_count": 5,
   "metadata": {},
   "outputs": [],
   "source": [
    "analyzer.analyze_sent_ids(dataset)"
   ]
  },
  {
   "cell_type": "code",
   "execution_count": 6,
   "metadata": {},
   "outputs": [
    {
     "name": "stdout",
     "output_type": "stream",
     "text": [
      "Words\n",
      "[(',', 86), ('.', 41), ('của', 13), ('và', 13), ('trong', 13), ('là', 12), ('đã', 12), ('được', 11), ('ngày', 11), ('người', 10), ('để', 10), ('ở', 9), ('với', 9), ('hà nội', 9), ('từ', 9), ('bán', 9), ('mua', 9), ('đặt', 8), ('tháng', 8), ('mới', 8), ('này', 8), ('ra', 8), ('cho', 8), ('không', 8), ('2', 7), ('vào', 7), ('có', 7), ('các', 7), ('về', 7), ('nhà', 7), ('cá', 7), ('nướng', 7), ('nhiều', 6), ('chợ', 6), ('chị', 6), ('rất', 5), ('đó', 5), ('những', 5), ('nhanh', 5), ('covid-19', 5), ('nghiện', 5), ('(', 5), (')', 5), ('con', 5), ('vàng', 5), ('vàng mã', 5), ('đây', 4), ('năm', 4), ('hai', 4), ('nhưng', 4)]\n",
      "Out of dictionary\n",
      "Corpus words:  573\n",
      "OOV words\n",
      "{'1.178', 'ma túy', '2.709', '7/8', 'kéo dài', 'long biên', 'đtk', 'group', 'ba đình', 'elo', 'quang liêm', 'yên nghĩa', 'lionel messi', 'phó tổng thống', '13/8', '2021', '150.000', 'nha trang', 'tajikistan', '2.128', 'the guardian', 'hasibullah stanikzai', 'saleh', 'việt nam', 'tùy', '\"', '4', 'điện biên', '12-8', 'bn', 'real madrid', 'xuất trận', 'ngọc lâm', 'trứng gà', '300.000', 'p.q.a', 'vĩnh thạnh', 'bố chồng', 'sergio ramos', 'sắc áo', 'covid-19', 'punjab', 'đầu mùa', 'ap', 'sốt ho', '1.750', 'đồ mã', '1.677', '1.700', '14-8', 'kabul', '35', 'cdc', 'missouri', 'hà đông', 'afghanistan', '7', 'hà nội', '27/4', '...', 'bảo quỳnh', 'taliban', 'bối cảnh giới', '12/8', '273', 'nguyễn minh hằng', \"'\", 'mai x.b.', '16/8', 'hạ giá', '14/8', ')', 'ca', 'jalandhar', '5', 'messi', '1', '10', 'châu á', 'grand chess tour', 'logar', 'chị hằng', 'từ điện biên', '15', 'phú bình', 'đê la thành', '-', 'nakamura', '100', 'f1', 'ramos', 'liêm', 'mamedyarov', '60', '280', 'phú thọ', 'tmcp', '3', 'st louis', '2', 'la liga', 'nhà chồng', 'như vậy', '8/2021', '(', '554', 'giấy bạc', 'ấn độ', ',', '13-8', 'tnhh', 'rt-pcr', 'psg', '/', '%', 'amrullah saleh', 'khánh hòa', 'màu cờ', 'phong tỏa', '.', 'vietcombank', '6/8', '10/8'}\n"
     ]
    }
   ],
   "source": [
    "analyzer.analyze_words(dataset)"
   ]
  }
 ],
 "metadata": {
  "kernelspec": {
   "display_name": "underthesea_test",
   "language": "python",
   "name": "underthesea_test"
  },
  "language_info": {
   "codemirror_mode": {
    "name": "ipython",
    "version": 3
   },
   "file_extension": ".py",
   "mimetype": "text/x-python",
   "name": "python",
   "nbconvert_exporter": "python",
   "pygments_lexer": "ipython3",
   "version": "3.6.13"
  }
 },
 "nbformat": 4,
 "nbformat_minor": 2
}
